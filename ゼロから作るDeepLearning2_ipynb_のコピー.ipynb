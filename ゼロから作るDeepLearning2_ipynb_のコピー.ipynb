{
  "nbformat": 4,
  "nbformat_minor": 0,
  "metadata": {
    "colab": {
      "name": "ゼロから作るDeepLearning2.ipynb のコピー",
      "provenance": [],
      "authorship_tag": "ABX9TyNNAxlVErCHcM5B+AZ+40fq",
      "include_colab_link": true
    },
    "kernelspec": {
      "name": "python3",
      "display_name": "Python 3"
    },
    "language_info": {
      "name": "python"
    }
  },
  "cells": [
    {
      "cell_type": "markdown",
      "metadata": {
        "id": "view-in-github",
        "colab_type": "text"
      },
      "source": [
        "<a href=\"https://colab.research.google.com/github/birdbeetle/deep-learning-from-scratch-2/blob/GoogleColab/%E3%82%BC%E3%83%AD%E3%81%8B%E3%82%89%E4%BD%9C%E3%82%8BDeepLearning2_ipynb_%E3%81%AE%E3%82%B3%E3%83%94%E3%83%BC.ipynb\" target=\"_parent\"><img src=\"https://colab.research.google.com/assets/colab-badge.svg\" alt=\"Open In Colab\"/></a>"
      ]
    },
    {
      "cell_type": "markdown",
      "metadata": {
        "id": "QI4tHCBCak_b"
      },
      "source": [
        "現在現在2章を学習中学習中"
      ]
    },
    {
      "cell_type": "markdown",
      "metadata": {
        "id": "qlHB8GAZUVQ2"
      },
      "source": [
        "# 0章　github"
      ]
    },
    {
      "cell_type": "markdown",
      "metadata": {
        "id": "mBIbeq-MXHrL"
      },
      "source": [
        "githubからサンプルコードを取得したり、作業中のnotebookをgithubに保存する"
      ]
    },
    {
      "cell_type": "markdown",
      "metadata": {
        "id": "DKatcnnrY1Pl"
      },
      "source": [
        "### 0.1 サンプルコードとデータセットの取得"
      ]
    },
    {
      "cell_type": "code",
      "metadata": {
        "colab": {
          "base_uri": "https://localhost:8080/"
        },
        "id": "ZjcAN0-tHH0M",
        "outputId": "7c09cf31-8a37-4741-8d23-22840c15e198"
      },
      "source": [
        "#githubのリポジトリをGoogleColabにクローン\n",
        "!git clone https://github.com/birdbeetle/deep-learning-from-scratch-2.git"
      ],
      "execution_count": 1,
      "outputs": [
        {
          "output_type": "stream",
          "name": "stdout",
          "text": [
            "fatal: destination path 'deep-learning-from-scratch-2' already exists and is not an empty directory.\n"
          ]
        }
      ]
    },
    {
      "cell_type": "markdown",
      "metadata": {
        "id": "HbZE9zcMZZ9b"
      },
      "source": [
        "### 0.2 作業用ディレクトリに移動 "
      ]
    },
    {
      "cell_type": "markdown",
      "metadata": {
        "id": "6cvDdHYUZ0Ai"
      },
      "source": [
        "ch??へ移動する\n",
        "随時随時pathを変更する"
      ]
    },
    {
      "cell_type": "code",
      "metadata": {
        "colab": {
          "base_uri": "https://localhost:8080/"
        },
        "id": "cQbQNKd1IEOs",
        "outputId": "3c46aa28-8cf1-42be-bcbb-c554ba25dd18"
      },
      "source": [
        "import os\n",
        "path = '/content/deep-learning-from-scratch-2/ch02'\n",
        "\n",
        "#作業ディレクトリに移動する\n",
        "os.chdir(path)\n",
        "\n",
        "#作業ディレクトリ直下のファイルを確認確認\n",
        "!ls"
      ],
      "execution_count": 3,
      "outputs": [
        {
          "output_type": "stream",
          "name": "stdout",
          "text": [
            "count_method_big.py    most_similar.py\tshow_ptb.py\n",
            "count_method_small.py  ppmi.py\t\tsimilarity.py\n"
          ]
        }
      ]
    },
    {
      "cell_type": "markdown",
      "metadata": {
        "id": "h-VsgwhDZojM"
      },
      "source": [
        ""
      ]
    },
    {
      "cell_type": "markdown",
      "metadata": {
        "id": "42z2Bou6VLso"
      },
      "source": [
        "# 1章章 ニューラルネットワークの復習"
      ]
    },
    {
      "cell_type": "markdown",
      "metadata": {
        "id": "5fbErY_CaBdl"
      },
      "source": [
        "割愛"
      ]
    },
    {
      "cell_type": "markdown",
      "metadata": {
        "id": "GaI3xtkkU04m"
      },
      "source": [
        "# 2章 自然言語処理と単語の分散表現分散表現"
      ]
    }
  ]
}