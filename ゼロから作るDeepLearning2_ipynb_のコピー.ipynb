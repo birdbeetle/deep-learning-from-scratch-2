{
  "nbformat": 4,
  "nbformat_minor": 0,
  "metadata": {
    "colab": {
      "name": "ゼロから作るDeepLearning2.ipynb のコピー",
      "provenance": [],
      "authorship_tag": "ABX9TyOxj5iZ5WJ5w8Qom5bNSAg3",
      "include_colab_link": true
    },
    "kernelspec": {
      "name": "python3",
      "display_name": "Python 3"
    },
    "language_info": {
      "name": "python"
    }
  },
  "cells": [
    {
      "cell_type": "markdown",
      "metadata": {
        "id": "view-in-github",
        "colab_type": "text"
      },
      "source": [
        "<a href=\"https://colab.research.google.com/github/birdbeetle/deep-learning-from-scratch-2/blob/GoogleColab/%E3%82%BC%E3%83%AD%E3%81%8B%E3%82%89%E4%BD%9C%E3%82%8BDeepLearning2_ipynb_%E3%81%AE%E3%82%B3%E3%83%94%E3%83%BC.ipynb\" target=\"_parent\"><img src=\"https://colab.research.google.com/assets/colab-badge.svg\" alt=\"Open In Colab\"/></a>"
      ]
    },
    {
      "cell_type": "code",
      "metadata": {
        "colab": {
          "base_uri": "https://localhost:8080/"
        },
        "id": "ZjcAN0-tHH0M",
        "outputId": "136cec37-c78c-426e-c854-4598d174e8a4"
      },
      "source": [
        "#githubのリポジトリをGoogleColabにクローン\n",
        "!git clone https://github.com/birdbeetle/deep-learning-from-scratch-2.git"
      ],
      "execution_count": 2,
      "outputs": [
        {
          "output_type": "stream",
          "name": "stdout",
          "text": [
            "Cloning into 'deep-learning-from-scratch-2'...\n",
            "remote: Enumerating objects: 411, done.\u001b[K\n",
            "remote: Counting objects: 100% (14/14), done.\u001b[K\n",
            "remote: Compressing objects: 100% (14/14), done.\u001b[K\n",
            "remote: Total 411 (delta 6), reused 1 (delta 0), pack-reused 397\u001b[K\n",
            "Receiving objects: 100% (411/411), 7.91 MiB | 6.62 MiB/s, done.\n",
            "Resolving deltas: 100% (233/233), done.\n"
          ]
        }
      ]
    },
    {
      "cell_type": "code",
      "metadata": {
        "colab": {
          "base_uri": "https://localhost:8080/"
        },
        "id": "cQbQNKd1IEOs",
        "outputId": "dc41ae9e-bffc-46fd-fc7d-a8ebe7dd7cb1"
      },
      "source": [
        "import os\n",
        "path = '/content/deep-learning-from-scratch-2/ch01'\n",
        "\n",
        "#作業ディレクトリに移動する\n",
        "os.chdir(path)\n",
        "\n",
        "#作業ディレクトリ直下のファイルを確認確認\n",
        "!ls"
      ],
      "execution_count": 3,
      "outputs": [
        {
          "output_type": "stream",
          "name": "stdout",
          "text": [
            "forward_net.py\t\ttrain_custom_loop.py  two_layer_net.py\n",
            "show_spiral_dataset.py\ttrain.py\n"
          ]
        }
      ]
    },
    {
      "cell_type": "code",
      "metadata": {
        "id": "KR29HshJO_n6"
      },
      "source": [
        "#GoogleColab用にコード編集するため各モジュールをコピー\n",
        "!cp train_custom_loop.py train_custom_loop_GoogleColab.py"
      ],
      "execution_count": 4,
      "outputs": []
    }
  ]
}