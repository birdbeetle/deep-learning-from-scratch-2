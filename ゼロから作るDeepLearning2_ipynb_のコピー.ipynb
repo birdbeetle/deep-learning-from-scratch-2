{
  "nbformat": 4,
  "nbformat_minor": 0,
  "metadata": {
    "colab": {
      "name": "ゼロから作るDeepLearning2.ipynb のコピー",
      "provenance": [],
      "authorship_tag": "ABX9TyNWE/UXJ7cuu+E5Z1z2sFc2",
      "include_colab_link": true
    },
    "kernelspec": {
      "name": "python3",
      "display_name": "Python 3"
    },
    "language_info": {
      "name": "python"
    }
  },
  "cells": [
    {
      "cell_type": "markdown",
      "metadata": {
        "id": "view-in-github",
        "colab_type": "text"
      },
      "source": [
        "<a href=\"https://colab.research.google.com/github/birdbeetle/deep-learning-from-scratch-2/blob/GoogleColab/%E3%82%BC%E3%83%AD%E3%81%8B%E3%82%89%E4%BD%9C%E3%82%8BDeepLearning2_ipynb_%E3%81%AE%E3%82%B3%E3%83%94%E3%83%BC.ipynb\" target=\"_parent\"><img src=\"https://colab.research.google.com/assets/colab-badge.svg\" alt=\"Open In Colab\"/></a>"
      ]
    },
    {
      "cell_type": "code",
      "metadata": {
        "colab": {
          "base_uri": "https://localhost:8080/"
        },
        "id": "ZjcAN0-tHH0M",
        "outputId": "1c6d863e-0419-41f4-d66b-dcd2187905be"
      },
      "source": [
        "#githubのリポジトリをGoogleColabにクローン\n",
        "!git clone https://github.com/birdbeetle/deep-learning-from-scratch-2.git"
      ],
      "execution_count": 1,
      "outputs": [
        {
          "output_type": "stream",
          "name": "stdout",
          "text": [
            "Cloning into 'deep-learning-from-scratch-2'...\n",
            "remote: Enumerating objects: 417, done.\u001b[K\n",
            "remote: Counting objects: 100% (20/20), done.\u001b[K\n",
            "remote: Compressing objects: 100% (20/20), done.\u001b[K\n",
            "remote: Total 417 (delta 9), reused 1 (delta 0), pack-reused 397\u001b[K\n",
            "Receiving objects: 100% (417/417), 7.92 MiB | 29.15 MiB/s, done.\n",
            "Resolving deltas: 100% (236/236), done.\n"
          ]
        }
      ]
    },
    {
      "cell_type": "code",
      "metadata": {
        "colab": {
          "base_uri": "https://localhost:8080/"
        },
        "id": "cQbQNKd1IEOs",
        "outputId": "cf265b20-ce6a-4896-f74e-1c4216e58dc8"
      },
      "source": [
        "import os\n",
        "path = '/content/deep-learning-from-scratch-2/ch01'\n",
        "\n",
        "#作業ディレクトリに移動する\n",
        "os.chdir(path)\n",
        "\n",
        "#作業ディレクトリ直下のファイルを確認確認\n",
        "!ls"
      ],
      "execution_count": 2,
      "outputs": [
        {
          "output_type": "stream",
          "name": "stdout",
          "text": [
            "forward_net.py\t\ttrain_custom_loop.py  two_layer_net.py\n",
            "show_spiral_dataset.py\ttrain.py\n"
          ]
        }
      ]
    },
    {
      "cell_type": "code",
      "metadata": {
        "id": "KR29HshJO_n6",
        "outputId": "5f81ca68-6fdc-4bbe-9fe2-5bec7c50a110",
        "colab": {
          "base_uri": "https://localhost:8080/"
        }
      },
      "source": [
        "#GoogleColab用にコード編集するため各モジュールをコピー\n",
        "!cp train_custom_loop.py train_custom_loop_GoogleColab.py\n",
        "\n",
        "#作業ディレクトリ直下のファイルを確認確認\n",
        "!ls"
      ],
      "execution_count": 4,
      "outputs": [
        {
          "output_type": "stream",
          "name": "stdout",
          "text": [
            "forward_net.py\t\ttrain_custom_loop_GoogleColab.py  train.py\n",
            "show_spiral_dataset.py\ttrain_custom_loop.py\t\t  two_layer_net.py\n"
          ]
        }
      ]
    },
    {
      "cell_type": "code",
      "metadata": {
        "id": "TE3oHYK69XKr",
        "outputId": "bc8ec4ca-cf9e-4025-b7e8-32a8b944afed",
        "colab": {
          "base_uri": "https://localhost:8080/"
        }
      },
      "source": [
        "#リモートリポジトリを確認\n",
        "!git remote "
      ],
      "execution_count": 6,
      "outputs": [
        {
          "output_type": "stream",
          "name": "stdout",
          "text": [
            "origin\thttps://github.com/birdbeetle/deep-learning-from-scratch-2.git (fetch)\n",
            "origin\thttps://github.com/birdbeetle/deep-learning-from-scratch-2.git (push)\n"
          ]
        }
      ]
    },
    {
      "cell_type": "code",
      "metadata": {
        "id": "nwnc-PgQ_NpG",
        "outputId": "e1b37815-bb1e-4609-8ba0-08b51fc03273",
        "colab": {
          "base_uri": "https://localhost:8080/"
        }
      },
      "source": [
        "#ブランチを確認確認\n",
        "!git branch --remote"
      ],
      "execution_count": 13,
      "outputs": [
        {
          "output_type": "stream",
          "name": "stdout",
          "text": [
            "  \u001b[31morigin/GoogleColab\u001b[m\n",
            "  \u001b[31morigin/HEAD\u001b[m -> origin/master\n",
            "  \u001b[31morigin/images\u001b[m\n",
            "  \u001b[31morigin/master\u001b[m\n"
          ]
        }
      ]
    },
    {
      "cell_type": "code",
      "metadata": {
        "id": "Ukcxl28s-ZYo",
        "outputId": "6870731d-8589-484c-cf71-95bd6c7f1c66",
        "colab": {
          "base_uri": "https://localhost:8080/"
        }
      },
      "source": [
        "#ファイルををpush\n",
        "!git push origin GoogleColab"
      ],
      "execution_count": 16,
      "outputs": [
        {
          "output_type": "stream",
          "name": "stdout",
          "text": [
            "error: src refspec GoogleColab does not match any.\n",
            "error: failed to push some refs to 'https://github.com/birdbeetle/deep-learning-from-scratch-2.git'\n"
          ]
        }
      ]
    }
  ]
}